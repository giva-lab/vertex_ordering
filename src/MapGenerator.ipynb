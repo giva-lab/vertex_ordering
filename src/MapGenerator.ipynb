{
 "cells": [
  {
   "cell_type": "markdown",
   "id": "bb10c030-e4f3-41a8-9133-7a59ddb7f069",
   "metadata": {},
   "source": [
    "### Importação de arquivo"
   ]
  },
  {
   "cell_type": "code",
   "execution_count": 2,
   "id": "bjy2i6BO9_E7",
   "metadata": {
    "colab": {
     "base_uri": "https://localhost:8080/"
    },
    "executionInfo": {
     "elapsed": 87431,
     "status": "ok",
     "timestamp": 1643661496863,
     "user": {
      "displayName": "Karelia Alexandra Vilca Salinas",
      "photoUrl": "https://lh3.googleusercontent.com/a/default-user=s64",
      "userId": "07656469641488750108"
     },
     "user_tz": 300
    },
    "id": "bjy2i6BO9_E7",
    "outputId": "4ab34f09-dd29-4318-86db-fbdd9d6d7fcb"
   },
   "outputs": [],
   "source": [
    "import sys\n",
    "file_loc = '/Users/thalesvieira/Projects/sibgrapi2022/data'\n",
    "sys.path.insert(0,'/store/karelia/sibgrapi2023')\n",
    "\n",
    "import CityHub\n",
    "import networkx as nx\n",
    "import numpy as np\n",
    "import osmnx as ox\n",
    "#cg=CityHub.load_preprocessed_CityHub('/store/karelia/sp3.bin')#(file_loc+'/sp-ordena.bin')\n",
    "#G=cg.city_mesh_graph#city_street_graph"
   ]
  },
  {
   "cell_type": "code",
   "execution_count": null,
   "id": "c03bc4e0",
   "metadata": {
    "id": "c03bc4e0"
   },
   "outputs": [],
   "source": [
    "## Para servidor\n",
    "# import sys\n",
    "# sys.path.insert(0,'/store/karelia/')\n",
    "# from CityGraph import *\n",
    "# import CityGraph\n",
    "# cg=CityGraph.load_preprocessed_CityGraph('/store/tvieira/CityGraph/shared/data/sp-completo.bin')"
   ]
  },
  {
   "cell_type": "markdown",
   "id": "62facf16-8b63-47ae-9c15-0e6652debfe3",
   "metadata": {},
   "source": [
    "### Download de cidade via string"
   ]
  },
  {
   "cell_type": "code",
   "execution_count": null,
   "id": "92297bee-44fa-4f23-996a-898a8c40d8f4",
   "metadata": {},
   "outputs": [],
   "source": [
    "cg = CityHub.CityHub('Maceió, Brazil',40.0)\n",
    "G=cg.city_street_graph"
   ]
  },
  {
   "cell_type": "markdown",
   "id": "c416c819-209a-483d-a583-f817c0e81fb8",
   "metadata": {},
   "source": [
    "### Funções auxiliares"
   ]
  },
  {
   "cell_type": "code",
   "execution_count": 54,
   "id": "q_rXpFVO0uYY",
   "metadata": {
    "id": "q_rXpFVO0uYY"
   },
   "outputs": [],
   "source": [
    "# https://mail.python.org/pipermail/scipy-dev/2014-October/020120.html\n",
    "from scipy.sparse import coo_matrix\n",
    "def is_symmetric(m):\n",
    "  if m.shape[0] != m.shape[1]:\n",
    "    raise ValueError('m must be a square matrix')\n",
    "  if not isinstance(m, coo_matrix):\n",
    "    m = coo_matrix(m)\n",
    "  r, c, v = m.row, m.col, m.data\n",
    "  tril_no_diag = r > c\n",
    "  triu_no_diag = c > r\n",
    "\n",
    "  if triu_no_diag.sum() != tril_no_diag.sum():\n",
    "    return False\n",
    "  rl = r[tril_no_diag]\n",
    "  cl = c[tril_no_diag]\n",
    "  vl = v[tril_no_diag]\n",
    "  ru = r[triu_no_diag]\n",
    "  cu = c[triu_no_diag]\n",
    "  vu = v[triu_no_diag]\n",
    "\n",
    "  sortl = np.lexsort((cl, rl))\n",
    "  sortu = np.lexsort((ru, cu))\n",
    "  vl = vl[sortl]\n",
    "  vu = vu[sortu]\n",
    "\n",
    "  check = np.allclose(vl, vu)\n",
    "\n",
    "  return check\n",
    "\n",
    "def is_triangular(A):\n",
    "  m = coo_matrix(A)\n",
    "  r, c, v = m.row, m.col, m.data\n",
    "  tril_no_diag = r > c\n",
    "  triu_no_diag = c > r\n",
    "  if triu_no_diag.sum()==0 or tril_no_diag.sum()==0 :\n",
    "    return True\n",
    "  return False"
   ]
  },
  {
   "cell_type": "markdown",
   "id": "87b5bdf4-2577-4f86-bbc9-63892e6a26ea",
   "metadata": {},
   "source": [
    "## Laplacian e Fiedler"
   ]
  },
  {
   "cell_type": "code",
   "execution_count": 55,
   "id": "2dc220bf-b202-49a9-89cd-a4cafbc73c86",
   "metadata": {},
   "outputs": [
    {
     "name": "stdout",
     "output_type": "stream",
     "text": [
      "True\n",
      "1\n"
     ]
    }
   ],
   "source": [
    "# The graph is connected?\n",
    "print(nx.is_connected(G))\n",
    "print(nx.number_connected_components(G))"
   ]
  },
  {
   "cell_type": "code",
   "execution_count": 56,
   "id": "z9UX8b4oK5oU",
   "metadata": {
    "colab": {
     "base_uri": "https://localhost:8080/"
    },
    "executionInfo": {
     "elapsed": 367,
     "status": "ok",
     "timestamp": 1643418791948,
     "user": {
      "displayName": "Karelia Alexandra Vilca Salinas",
      "photoUrl": "https://lh3.googleusercontent.com/a/default-user=s64",
      "userId": "07656469641488750108"
     },
     "user_tz": 300
    },
    "id": "z9UX8b4oK5oU",
    "outputId": "557d7ecd-4416-4058-c06b-11a2b47b4563"
   },
   "outputs": [
    {
     "name": "stdout",
     "output_type": "stream",
     "text": [
      "True\n",
      "False\n"
     ]
    }
   ],
   "source": [
    "import osmnx as ox\n",
    "import math\n",
    "\n",
    "'''' If you want to use the average distance between all point pairs as sigma (slow)\n",
    "soma=0.0\n",
    "for u in G.nodes:\n",
    "    for v in G.nodes:\n",
    "        if u!=v:\n",
    "            vertA = cg.city_vert_list[cg.city_vert_nxind_to_ind_dict[u]]\n",
    "            vertB = cg.city_vert_list[cg.city_vert_nxind_to_ind_dict[v]]            \n",
    "            soma+= ox.distance.great_circle_vec(vertA[0],vertA[1],vertB[0],vertB[1])\n",
    "sigma=soma/(len(G.nodes)*(len(G.nodes)-1))\n",
    "'''\n",
    "\n",
    "sigma=5000\n",
    "\n",
    "# Inverse length\n",
    "for u in G.edges:\n",
    "   G[u[0]][u[1]][0][\"inv_length\"] = 1/G[u[0]][u[1]][0][\"length\"] \n",
    "# Gaussian:\n",
    "#    G[u[0]][u[1]][0][\"inv_length\"] = math.exp(-(G[u[0]][u[1]][0][\"length\"]**2)/(sigma**2)) \n",
    "    \n",
    "laplacian = nx.laplacian_matrix(G,weight='inv_length')\n",
    "\n",
    "# Is Symmetric?\n",
    "print(is_symmetric(laplacian))\n",
    "# Is Triangular?\n",
    "print(is_triangular(laplacian))"
   ]
  },
  {
   "cell_type": "code",
   "execution_count": 57,
   "id": "g6AnrwRjiPRn",
   "metadata": {
    "colab": {
     "base_uri": "https://localhost:8080/"
    },
    "executionInfo": {
     "elapsed": 2745,
     "status": "ok",
     "timestamp": 1643661506290,
     "user": {
      "displayName": "Karelia Alexandra Vilca Salinas",
      "photoUrl": "https://lh3.googleusercontent.com/a/default-user=s64",
      "userId": "07656469641488750108"
     },
     "user_tz": 300
    },
    "id": "g6AnrwRjiPRn",
    "outputId": "2d430588-d1b5-4153-e6b4-63c678da3c94"
   },
   "outputs": [
    {
     "name": "stdout",
     "output_type": "stream",
     "text": [
      "Fiedler vector: [-3.88640009e-03 -4.07912538e-03 -4.68661359e-03 ... -2.55740329e-03\n",
      " -2.55746591e-03  6.37940032e-05]\n"
     ]
    }
   ],
   "source": [
    "from scipy.sparse.linalg import eigs\n",
    "eig_values, eig_vectors = eigs(laplacian.astype(float),k=2, which='LM', sigma=0)\n",
    "fiedler_pos = np.where(eig_values.real == np.sort(eig_values.real)[1])[0][0]\n",
    "fiedler_vector = np.transpose(eig_vectors)[fiedler_pos]\n",
    "\n",
    "print(\"Fiedler vector: \" + str(fiedler_vector.real))\n",
    "fiedler_vector_real = fiedler_vector.real\n",
    "fiedler_sorted_index_list = np.argsort(np.argsort(fiedler_vector_real))\n",
    "\n",
    "i=0\n",
    "for u in G.nodes:\n",
    "    G.nodes[u]['fiedler_index']=fiedler_sorted_index_list[i]\n",
    "    i=i+1\n",
    "    \n",
    "inverse_fiedler_sorted_index_list = [0] * len(cg.city_vert_list)\n",
    "for i in range(len(fiedler_sorted_index_list)):\n",
    "    inverse_fiedler_sorted_index_list[fiedler_sorted_index_list[i]]=i"
   ]
  },
  {
   "cell_type": "markdown",
   "id": "e5b3adcb-ae33-4b93-b53b-91387e941fda",
   "metadata": {},
   "source": [
    "## Random"
   ]
  },
  {
   "cell_type": "code",
   "execution_count": 58,
   "id": "d744f59a-19ce-4d27-b099-fec487269fa7",
   "metadata": {},
   "outputs": [],
   "source": [
    "random_index_list = np.random.permutation(len(cg.city_vert_list))"
   ]
  },
  {
   "cell_type": "markdown",
   "id": "d4c7dc12-f011-4b7f-b2cd-0cfee70af019",
   "metadata": {},
   "source": [
    "## t-SNE 1D"
   ]
  },
  {
   "cell_type": "code",
   "execution_count": 59,
   "id": "a69e1c10-41c6-43f2-bc9c-01e863db26c7",
   "metadata": {},
   "outputs": [
    {
     "name": "stdout",
     "output_type": "stream",
     "text": [
      "[t-SNE] Computing 91 nearest neighbors...\n",
      "[t-SNE] Indexed 16088 samples in 0.009s...\n",
      "[t-SNE] Computed neighbors for 16088 samples in 0.235s...\n",
      "[t-SNE] Computed conditional probabilities for sample 1000 / 16088\n",
      "[t-SNE] Computed conditional probabilities for sample 2000 / 16088\n",
      "[t-SNE] Computed conditional probabilities for sample 3000 / 16088\n",
      "[t-SNE] Computed conditional probabilities for sample 4000 / 16088\n",
      "[t-SNE] Computed conditional probabilities for sample 5000 / 16088\n",
      "[t-SNE] Computed conditional probabilities for sample 6000 / 16088\n",
      "[t-SNE] Computed conditional probabilities for sample 7000 / 16088\n",
      "[t-SNE] Computed conditional probabilities for sample 8000 / 16088\n",
      "[t-SNE] Computed conditional probabilities for sample 9000 / 16088\n",
      "[t-SNE] Computed conditional probabilities for sample 10000 / 16088\n",
      "[t-SNE] Computed conditional probabilities for sample 11000 / 16088\n",
      "[t-SNE] Computed conditional probabilities for sample 12000 / 16088\n",
      "[t-SNE] Computed conditional probabilities for sample 13000 / 16088\n",
      "[t-SNE] Computed conditional probabilities for sample 14000 / 16088\n",
      "[t-SNE] Computed conditional probabilities for sample 15000 / 16088\n",
      "[t-SNE] Computed conditional probabilities for sample 16000 / 16088\n",
      "[t-SNE] Computed conditional probabilities for sample 16088 / 16088\n",
      "[t-SNE] Mean sigma: 0.001328\n",
      "[t-SNE] KL divergence after 250 iterations with early exaggeration: 82.628204\n",
      "[t-SNE] KL divergence after 1000 iterations: 2.101238\n"
     ]
    }
   ],
   "source": [
    "from sklearn.manifold import TSNE\n",
    "\n",
    "tsne = TSNE(n_components=1, verbose=1, random_state=123)\n",
    "tsne_embedding = tsne.fit_transform(np.array(cg.city_vert_list)) \n",
    "\n",
    "tsne_sorted_index_list = np.argsort(np.argsort(tsne_embedding.flatten()))\n",
    "\n",
    "inverse_tsne_sorted_index_list = [0] * len(cg.city_vert_list)\n",
    "for i in range(len(tsne_sorted_index_list)):\n",
    "    inverse_tsne_sorted_index_list[tsne_sorted_index_list[i]]=i"
   ]
  },
  {
   "cell_type": "markdown",
   "id": "9be38f77",
   "metadata": {},
   "source": [
    "## Métrica de qualidade sentido embedding -> latlong"
   ]
  },
  {
   "cell_type": "markdown",
   "id": "144c3282-07e5-495f-8881-4302fbbde3ce",
   "metadata": {},
   "source": [
    "### original"
   ]
  },
  {
   "cell_type": "code",
   "execution_count": 61,
   "id": "7e929fc3-dc34-407d-af7d-d4af7e493c34",
   "metadata": {},
   "outputs": [
    {
     "ename": "TypeError",
     "evalue": "'numpy.int64' object is not callable",
     "output_type": "error",
     "traceback": [
      "\u001b[0;31m---------------------------------------------------------------------------\u001b[0m",
      "\u001b[0;31mTypeError\u001b[0m                                 Traceback (most recent call last)",
      "\u001b[0;32m<ipython-input-61-65cf00998033>\u001b[0m in \u001b[0;36m<module>\u001b[0;34m\u001b[0m\n\u001b[1;32m      8\u001b[0m     \u001b[0mLats\u001b[0m \u001b[0;34m=\u001b[0m \u001b[0;34m[\u001b[0m\u001b[0mcg\u001b[0m\u001b[0;34m.\u001b[0m\u001b[0mcity_vert_list\u001b[0m\u001b[0;34m[\u001b[0m\u001b[0mj\u001b[0m\u001b[0;34m]\u001b[0m\u001b[0;34m[\u001b[0m\u001b[0;36m0\u001b[0m\u001b[0;34m]\u001b[0m \u001b[0;32mfor\u001b[0m \u001b[0mj\u001b[0m \u001b[0;32min\u001b[0m \u001b[0mrange\u001b[0m\u001b[0;34m(\u001b[0m\u001b[0mi\u001b[0m\u001b[0;34m,\u001b[0m\u001b[0mi\u001b[0m\u001b[0;34m+\u001b[0m\u001b[0mwindow_size\u001b[0m\u001b[0;34m)\u001b[0m\u001b[0;34m]\u001b[0m\u001b[0;34m\u001b[0m\u001b[0;34m\u001b[0m\u001b[0m\n\u001b[1;32m      9\u001b[0m     \u001b[0mLongs\u001b[0m \u001b[0;34m=\u001b[0m \u001b[0;34m[\u001b[0m\u001b[0mcg\u001b[0m\u001b[0;34m.\u001b[0m\u001b[0mcity_vert_list\u001b[0m\u001b[0;34m[\u001b[0m\u001b[0mj\u001b[0m\u001b[0;34m]\u001b[0m\u001b[0;34m[\u001b[0m\u001b[0;36m1\u001b[0m\u001b[0;34m]\u001b[0m \u001b[0;32mfor\u001b[0m \u001b[0mj\u001b[0m \u001b[0;32min\u001b[0m \u001b[0mrange\u001b[0m\u001b[0;34m(\u001b[0m\u001b[0mi\u001b[0m\u001b[0;34m,\u001b[0m\u001b[0mi\u001b[0m\u001b[0;34m+\u001b[0m\u001b[0mwindow_size\u001b[0m\u001b[0;34m)\u001b[0m\u001b[0;34m]\u001b[0m\u001b[0;34m\u001b[0m\u001b[0;34m\u001b[0m\u001b[0m\n\u001b[0;32m---> 10\u001b[0;31m     \u001b[0mmin_rad\u001b[0m \u001b[0;34m=\u001b[0m \u001b[0;34m[\u001b[0m\u001b[0mmath\u001b[0m\u001b[0;34m.\u001b[0m\u001b[0mradians\u001b[0m\u001b[0;34m(\u001b[0m\u001b[0m_\u001b[0m\u001b[0;34m)\u001b[0m \u001b[0;32mfor\u001b[0m \u001b[0m_\u001b[0m \u001b[0;32min\u001b[0m \u001b[0;34m[\u001b[0m\u001b[0mmin\u001b[0m\u001b[0;34m(\u001b[0m\u001b[0mLats\u001b[0m\u001b[0;34m)\u001b[0m\u001b[0;34m,\u001b[0m\u001b[0mmin\u001b[0m\u001b[0;34m(\u001b[0m\u001b[0mLongs\u001b[0m\u001b[0;34m)\u001b[0m\u001b[0;34m]\u001b[0m\u001b[0;34m]\u001b[0m\u001b[0;34m\u001b[0m\u001b[0;34m\u001b[0m\u001b[0m\n\u001b[0m\u001b[1;32m     11\u001b[0m     \u001b[0mmax_rad\u001b[0m \u001b[0;34m=\u001b[0m \u001b[0;34m[\u001b[0m\u001b[0mmath\u001b[0m\u001b[0;34m.\u001b[0m\u001b[0mradians\u001b[0m\u001b[0;34m(\u001b[0m\u001b[0m_\u001b[0m\u001b[0;34m)\u001b[0m \u001b[0;32mfor\u001b[0m \u001b[0m_\u001b[0m \u001b[0;32min\u001b[0m \u001b[0;34m[\u001b[0m\u001b[0mmax\u001b[0m\u001b[0;34m(\u001b[0m\u001b[0mLats\u001b[0m\u001b[0;34m)\u001b[0m\u001b[0;34m,\u001b[0m\u001b[0mmax\u001b[0m\u001b[0;34m(\u001b[0m\u001b[0mLongs\u001b[0m\u001b[0;34m)\u001b[0m\u001b[0;34m]\u001b[0m\u001b[0;34m]\u001b[0m\u001b[0;34m\u001b[0m\u001b[0;34m\u001b[0m\u001b[0m\n\u001b[1;32m     12\u001b[0m \u001b[0;34m\u001b[0m\u001b[0m\n",
      "\u001b[0;31mTypeError\u001b[0m: 'numpy.int64' object is not callable"
     ]
    }
   ],
   "source": [
    "from sklearn.metrics.pairwise import pairwise_distances,haversine_distances\n",
    "\n",
    "window_size = int(len(cg.city_vert_list)/100)\n",
    "\n",
    "diagonals_original = []\n",
    "\n",
    "for i in range(0,len(cg.city_vert_list)-window_size,1):\n",
    "    Lats = [cg.city_vert_list[j][0] for j in range(i,i+window_size)]\n",
    "    Longs = [cg.city_vert_list[j][1] for j in range(i,i+window_size)]\n",
    "    min_rad = [math.radians(_) for _ in [min(Lats),min(Longs)]]\n",
    "    max_rad = [math.radians(_) for _ in [max(Lats),max(Longs)]]\n",
    "    \n",
    "    diagonals_original.append(haversine_distances([min_rad,max_rad])[0,1]* 6371000/1000)"
   ]
  },
  {
   "cell_type": "markdown",
   "id": "2968fbfb-2e3b-4654-aeae-835dabc41046",
   "metadata": {},
   "source": [
    "### Fiedler"
   ]
  },
  {
   "cell_type": "code",
   "execution_count": null,
   "id": "706c0a8e-ab2e-434e-b748-83c9593648dc",
   "metadata": {},
   "outputs": [],
   "source": [
    "from sklearn.metrics.pairwise import pairwise_distances,haversine_distances\n",
    "import math\n",
    "\n",
    "\n",
    "diagonals_fiedler = []\n",
    "\n",
    "for i in range(0,len(cg.city_vert_list)-window_size,1):\n",
    "    Lats = [cg.city_vert_list[j][0] for j in inverse_fiedler_sorted_index_list[i:i+window_size]]\n",
    "    Longs = [cg.city_vert_list[j][1] for j in inverse_fiedler_sorted_index_list[i:i+window_size]]\n",
    "    min_rad = [math.radians(_) for _ in [min(Lats),min(Longs)]]\n",
    "    max_rad = [math.radians(_) for _ in [max(Lats),max(Longs)]]\n",
    "    \n",
    "    diagonals_fiedler.append(haversine_distances([min_rad,max_rad])[0,1]* 6371000/1000)"
   ]
  },
  {
   "cell_type": "markdown",
   "id": "829894bf-19ae-4109-aa3d-ed8207d2050e",
   "metadata": {},
   "source": [
    "### t-SNE"
   ]
  },
  {
   "cell_type": "code",
   "execution_count": null,
   "id": "18d116be-c7d1-4b47-a219-59df017a4ce1",
   "metadata": {},
   "outputs": [],
   "source": [
    "from sklearn.metrics.pairwise import pairwise_distances,haversine_distances\n",
    "import math\n",
    "\n",
    "\n",
    "diagonals_tsne = []\n",
    "\n",
    "for i in range(0,len(cg.city_vert_list)-window_size,1):\n",
    "    Lats = [cg.city_vert_list[j][0] for j in inverse_tsne_sorted_index_list[i:i+window_size]]\n",
    "    Longs = [cg.city_vert_list[j][1] for j in inverse_tsne_sorted_index_list[i:i+window_size]]\n",
    "    min_rad = [math.radians(_) for _ in [min(Lats),min(Longs)]]\n",
    "    max_rad = [math.radians(_) for _ in [max(Lats),max(Longs)]]\n",
    "    \n",
    "    diagonals_tsne.append(haversine_distances([min_rad,max_rad])[0,1]* 6371000/1000)"
   ]
  },
  {
   "cell_type": "markdown",
   "id": "d37fa810-dc9d-4cc7-aff6-882b8096edfc",
   "metadata": {},
   "source": [
    "### Random"
   ]
  },
  {
   "cell_type": "code",
   "execution_count": null,
   "id": "5f2eaace-f581-4f79-b377-f696152d52a5",
   "metadata": {},
   "outputs": [],
   "source": [
    "from sklearn.metrics.pairwise import pairwise_distances,haversine_distances\n",
    "\n",
    "diagonals_random = []\n",
    "\n",
    "for i in range(0,len(cg.city_vert_list)-window_size,1):\n",
    "#for i in range(0,10000,1000):\n",
    "    Lats = [cg.city_vert_list[j][0] for j in random_index_list[i:i+window_size]]\n",
    "    Longs = [cg.city_vert_list[j][1] for j in random_index_list[i:i+window_size]]\n",
    "    min_rad = [math.radians(_) for _ in [np.min(Lats),np.min(Longs)]]\n",
    "    max_rad = [math.radians(_) for _ in [np.max(Lats),np.max(Longs)]]\n",
    "    \n",
    "    diagonals_random.append(haversine_distances([min_rad,max_rad])[0,1]* 6371000/1000)\n",
    "   # print(diagonals_random[-1],' ',i/100,' de ',(len(cg.city_vert_list)-window_size)/100)\n",
    "    \n",
    "#    break"
   ]
  },
  {
   "cell_type": "code",
   "execution_count": null,
   "id": "527d0b37-a41c-44f8-85cb-6ce71fe955f0",
   "metadata": {},
   "outputs": [],
   "source": [
    "import statistics\n",
    "print('Fiedler - média:',statistics.mean(diagonals_fiedler))\n",
    "print('Fiedler - mediana:',statistics.median(diagonals_fiedler))\n",
    "print('t-SNE - média:',statistics.mean(diagonals_tsne))\n",
    "print('t-SNE - mediana:',statistics.median(diagonals_tsne))\n",
    "print('Original - média:',statistics.mean(diagonals_original))\n",
    "print('Original - mediana:',statistics.median(diagonals_original))\n",
    "print('Random - média:',statistics.mean(diagonals_random))\n",
    "print('Random - mediana:',statistics.median(diagonals_random))"
   ]
  },
  {
   "cell_type": "code",
   "execution_count": null,
   "id": "52ba8671-8745-485b-a46a-cc28f4f1cda8",
   "metadata": {},
   "outputs": [],
   "source": [
    "import matplotlib.pyplot as plt\n",
    "plt.hist([diagonals_fiedler, diagonals_tsne,diagonals_original, diagonals_random], bins=40, label=['fiedler', 't-sne', 'original', 'random'], color=['blue','orange','red', 'green'],range=[0,40])\n",
    "plt.legend(loc='upper right')\n",
    "plt.show()"
   ]
  },
  {
   "cell_type": "markdown",
   "id": "79dc7bf1-1076-4348-ba07-9d5b70ad48aa",
   "metadata": {},
   "source": [
    "## Métrica de qualidade sentido latlong -> embedding"
   ]
  },
  {
   "cell_type": "markdown",
   "id": "9ade5e7a-c0a4-42cf-8af6-c92e1cadf670",
   "metadata": {},
   "source": [
    "### Fiedler, original and random"
   ]
  },
  {
   "cell_type": "code",
   "execution_count": null,
   "id": "1b4c2b44-2843-496a-a9a9-830c8fc0ca17",
   "metadata": {},
   "outputs": [],
   "source": [
    "max_inverse_ind_dist_fiedler = []\n",
    "max_inverse_ind_dist_original = []\n",
    "max_inverse_ind_dist_random = []\n",
    "max_inverse_ind_dist_tsne = []\n",
    "\n",
    "for i in range(0,len(cg.city_vert_list)):\n",
    "    ps=nx.single_source_dijkstra_path(cg.city_street_graph,cg.city_vert_ind_to_nxind_dict[i],cutoff=0.5*1000.0,weight='length')\n",
    "    result_nodes = []\n",
    "    for k in ps.keys():\n",
    "        result_nodes.append(cg.city_vert_nxind_to_ind_dict[k])  \n",
    "    inds_sorted_fiedler = [fiedler_sorted_index_list[j] for j in result_nodes]\n",
    "    inds_sorted_tsne = [tsne_sorted_index_list[j] for j in result_nodes]\n",
    "    inds_random = [random_index_list[j] for j in result_nodes]\n",
    "    max_inverse_ind_dist_fiedler.append((np.max(inds_sorted_fiedler)-np.min(inds_sorted_fiedler))/len(inds_sorted_fiedler))  \n",
    "    max_inverse_ind_dist_tsne.append((np.max(inds_sorted_tsne)-np.min(inds_sorted_tsne))/len(inds_sorted_tsne))  \n",
    "    max_inverse_ind_dist_original.append((np.max(result_nodes)-np.min(result_nodes))/len(result_nodes))\n",
    "    max_inverse_ind_dist_random.append((np.max(inds_random)-np.min(inds_random))/len(inds_random))  "
   ]
  },
  {
   "cell_type": "code",
   "execution_count": null,
   "id": "3c93c257-2539-4017-aba9-629e8ee1d3f7",
   "metadata": {},
   "outputs": [],
   "source": [
    "plt.hist([max_inverse_ind_dist_fiedler,max_inverse_ind_dist_fiedler,max_inverse_ind_dist_original,max_inverse_ind_dist_random], bins=40, label=['fiedler','t-sne','original','random'], color=['blue', 'orange','red','green'],range=[0,400])\n",
    "plt.legend(loc='upper right')\n",
    "plt.show()"
   ]
  },
  {
   "cell_type": "code",
   "execution_count": null,
   "id": "6f2aaff3-ed3a-4382-b8ff-ffc130339a40",
   "metadata": {},
   "outputs": [],
   "source": [
    "plt.hist([max_inverse_ind_dist_fiedler,max_inverse_ind_dist_tsne,max_inverse_ind_dist_original,max_inverse_ind_dist_random], bins=40, label=['fiedler','t-sne','original','random'], color=['blue', 'orange','red','green'],range=[0,50])\n",
    "plt.legend(loc='upper right')\n",
    "plt.show()"
   ]
  },
  {
   "cell_type": "code",
   "execution_count": null,
   "id": "2e2a8bed-dfa7-4dbf-b0a9-14175bf288d4",
   "metadata": {},
   "outputs": [],
   "source": [
    "import statistics\n",
    "print('Fiedler - média:',statistics.mean(max_inverse_ind_dist_fiedler))\n",
    "print('Fiedler - mediana:',statistics.median(max_inverse_ind_dist_fiedler))\n",
    "print('t-SNE - média:',statistics.mean(max_inverse_ind_dist_tsne))\n",
    "print('t-SNE - mediana:',statistics.median(max_inverse_ind_dist_tsne))\n",
    "print('Original - média:',statistics.mean(max_inverse_ind_dist_original))\n",
    "print('Original - mediana:',statistics.median(max_inverse_ind_dist_original))\n",
    "print('Random - média:',statistics.mean(max_inverse_ind_dist_random))\n",
    "print('Random - mediana:',statistics.median(max_inverse_ind_dist_random))"
   ]
  },
  {
   "cell_type": "markdown",
   "id": "a76adb64-8326-49b7-81c6-c5919bf71466",
   "metadata": {},
   "source": [
    "## Mapa com colormap pela ordenação do vetor de Fiedler"
   ]
  },
  {
   "cell_type": "code",
   "execution_count": null,
   "id": "T-xYcJ04DY8H",
   "metadata": {
    "id": "T-xYcJ04DY8H"
   },
   "outputs": [],
   "source": [
    "import folium\n",
    "import branca\n",
    "import branca.colormap as cm\n",
    "\n",
    "#colormap = cm.LinearColormap(colors=['blue','yellow'],vmin=np.amin(sorted_index_list) ,vmax=np.amax(sorted_index_list))\n",
    "min= np.amin(fiedler_sorted_index_list)\n",
    "max = np.amax(fiedler_sorted_index_list)\n",
    "colormap = cm.LinearColormap(colors=['darkblue', 'blue', 'cyan', 'yellow', 'orange', 'red'],\n",
    "                             index=[min, max/5, max/5*2, max/5*3, max/5*4, max], vmin=min, vmax=max,\n",
    "                             caption='Fiedler index')\n",
    "\n",
    "Lats = [cg.city_vert_list[j][0] for j in range(len(cg.city_vert_list))]\n",
    "Longs = [cg.city_vert_list[j][1] for j in range(len(cg.city_vert_list))]\n",
    "med_lat = 0.5*(np.max(Lats)+np.min(Lats))\n",
    "med_lon = 0.5*(np.max(Longs)+np.min(Longs))\n",
    "\n",
    "m = folium.Map(location=[med_lat, med_lon], zoom_start=12, tiles='CartoDB positron')\n",
    "\n",
    "for esquina in range(len(cg.city_vert_list)):\n",
    "     folium.CircleMarker(cg.city_vert_list[inverse_fiedler_sorted_index_list[esquina]], radius=1, color=colormap(esquina),opacity=1).add_to(m)  \n",
    "\n",
    "   \n",
    "m.add_child(colormap)\n",
    "m\n",
    "m.save('fiedler_map_fiedler.html')"
   ]
  },
  {
   "cell_type": "markdown",
   "id": "527fb45e-84cc-47ee-a66d-e819988a2b34",
   "metadata": {},
   "source": [
    "## Mapa com colormap pela ordenação do t-SNE"
   ]
  },
  {
   "cell_type": "code",
   "execution_count": null,
   "id": "a8b92f83-17f8-4d95-9567-90d50b6dc787",
   "metadata": {},
   "outputs": [],
   "source": [
    "import folium\n",
    "import branca\n",
    "import branca.colormap as cm\n",
    "\n",
    "#colormap = cm.LinearColormap(colors=['blue','yellow'],vmin=np.amin(sorted_index_list) ,vmax=np.amax(sorted_index_list))\n",
    "min= np.amin(tsne_sorted_index_list)\n",
    "max = np.amax(tsne_sorted_index_list)\n",
    "colormap = cm.LinearColormap(colors=['darkblue', 'blue', 'cyan', 'yellow', 'orange', 'red'],\n",
    "                             index=[min, max/5, max/5*2, max/5*3, max/5*4, max], vmin=min, vmax=max,\n",
    "                             caption='Fiedler index')\n",
    "\n",
    "Lats = [cg.city_vert_list[j][0] for j in range(len(cg.city_vert_list))]\n",
    "Longs = [cg.city_vert_list[j][1] for j in range(len(cg.city_vert_list))]\n",
    "med_lat = 0.5*(np.max(Lats)+np.min(Lats))\n",
    "med_lon = 0.5*(np.max(Longs)+np.min(Longs))\n",
    "\n",
    "m = folium.Map(location=[med_lat, med_lon], zoom_start=12, tiles='CartoDB positron')\n",
    "\n",
    "for esquina in range(len(cg.city_vert_list)):\n",
    "     folium.CircleMarker(cg.city_vert_list[inverse_tsne_sorted_index_list[esquina]], radius=1, color=colormap(esquina),opacity=1).add_to(m)  \n",
    "\n",
    "   \n",
    "m.add_child(colormap)\n",
    "m\n",
    "m.save('fiedler_map_tsne.html')"
   ]
  },
  {
   "cell_type": "markdown",
   "id": "632sJPb9Bk4s",
   "metadata": {
    "id": "632sJPb9Bk4s"
   },
   "source": [
    "## Mapa com colormap pela métrica de qualidade inversa do vetor de Fiedler"
   ]
  },
  {
   "cell_type": "code",
   "execution_count": null,
   "id": "032f780d-07cc-428d-9844-2a9601bb53b5",
   "metadata": {},
   "outputs": [],
   "source": [
    "import folium\n",
    "import branca\n",
    "import branca.colormap as cm\n",
    "\n",
    "#colormap = cm.LinearColormap(colors=['blue','yellow'],vmin=np.amin(sorted_index_list) ,vmax=np.amax(sorted_index_list))\n",
    "min= np.amin(0)\n",
    "max = np.max(max_inverse_ind_dist_fiedler)/16\n",
    "colormap = cm.LinearColormap(colors=['darkblue', 'blue', 'cyan', 'yellow', 'orange', 'red'],\n",
    "                             index=[min, max/5, max/5*2, max/5*3, max/5*4, max], vmin=min, vmax=max,\n",
    "                             caption='inverse indices distance through fiedler error')\n",
    "\n",
    "Lats = [cg.city_vert_list[j][0] for j in range(len(cg.city_vert_list))]\n",
    "Longs = [cg.city_vert_list[j][1] for j in range(len(cg.city_vert_list))]\n",
    "med_lat = 0.5*(np.max(Lats)+np.min(Lats))\n",
    "med_lon = 0.5*(np.max(Longs)+np.min(Longs))\n",
    "\n",
    "m = folium.Map(location=[med_lat, med_lon], zoom_start=12, tiles='CartoDB positron')\n",
    "\n",
    "for esquina in range(len(cg.city_vert_list)):\n",
    "    folium.CircleMarker(cg.city_vert_list[esquina], radius=1, color=colormap(max_inverse_ind_dist_fiedler[esquina])).add_to(m)  \n",
    "   \n",
    "m.add_child(colormap)\n",
    "m\n",
    "m.save('fiedler_valor_map.html')"
   ]
  }
 ],
 "metadata": {
  "accelerator": "GPU",
  "colab": {
   "collapsed_sections": [],
   "name": "Laplacian-Fiedler (1).ipynb",
   "provenance": []
  },
  "kernelspec": {
   "display_name": "Python 3",
   "language": "python",
   "name": "python3"
  },
  "language_info": {
   "codemirror_mode": {
    "name": "ipython",
    "version": 3
   },
   "file_extension": ".py",
   "mimetype": "text/x-python",
   "name": "python",
   "nbconvert_exporter": "python",
   "pygments_lexer": "ipython3",
   "version": "3.8.8"
  }
 },
 "nbformat": 4,
 "nbformat_minor": 5
}
