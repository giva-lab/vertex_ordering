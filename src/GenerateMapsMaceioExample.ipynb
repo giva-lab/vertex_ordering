{
 "cells": [
  {
   "cell_type": "markdown",
   "id": "bb10c030-e4f3-41a8-9133-7a59ddb7f069",
   "metadata": {},
   "source": [
    "### Importação de arquivo"
   ]
  },
  {
   "cell_type": "code",
   "execution_count": null,
   "id": "bjy2i6BO9_E7",
   "metadata": {
    "colab": {
     "base_uri": "https://localhost:8080/"
    },
    "executionInfo": {
     "elapsed": 87431,
     "status": "ok",
     "timestamp": 1643661496863,
     "user": {
      "displayName": "Karelia Alexandra Vilca Salinas",
      "photoUrl": "https://lh3.googleusercontent.com/a/default-user=s64",
      "userId": "07656469641488750108"
     },
     "user_tz": 300
    },
    "id": "bjy2i6BO9_E7",
    "outputId": "4ab34f09-dd29-4318-86db-fbdd9d6d7fcb"
   },
   "outputs": [],
   "source": [
    "import sys\n",
    "import CityHub\n",
    "import networkx as nx\n",
    "import numpy as np\n",
    "import osmnx as ox\n",
    "#import pickle\n",
    "import shapely\n",
    "#from shapely.geometry import Point\n",
    "import geopandas as gpd\n",
    "#from shapely import io\n",
    "import pandas as pd\n",
    "import umap"
   ]
  },
  {
   "cell_type": "code",
   "execution_count": null,
   "id": "389976d9",
   "metadata": {},
   "outputs": [],
   "source": [
    "%%time\n",
    "cg=CityHub.CityHub('Maceió')\n",
    "G=cg.city_street_graph"
   ]
  },
  {
   "cell_type": "code",
   "execution_count": null,
   "id": "c3e4a6df",
   "metadata": {},
   "outputs": [],
   "source": [
    "type(G)"
   ]
  },
  {
   "cell_type": "code",
   "execution_count": null,
   "id": "c03bc4e0",
   "metadata": {
    "id": "c03bc4e0"
   },
   "outputs": [],
   "source": [
    "len(G)"
   ]
  },
  {
   "cell_type": "markdown",
   "id": "c416c819-209a-483d-a583-f817c0e81fb8",
   "metadata": {},
   "source": [
    "### Functions to verify whether laplacian is symetric and triangular"
   ]
  },
  {
   "cell_type": "code",
   "execution_count": null,
   "id": "q_rXpFVO0uYY",
   "metadata": {
    "id": "q_rXpFVO0uYY"
   },
   "outputs": [],
   "source": [
    "# https://mail.python.org/pipermail/scipy-dev/2014-October/020120.html\n",
    "from scipy.sparse import coo_matrix\n",
    "def is_symmetric(m):\n",
    "  if m.shape[0] != m.shape[1]:\n",
    "    raise ValueError('m must be a square matrix')\n",
    "  if not isinstance(m, coo_matrix):\n",
    "    m = coo_matrix(m)\n",
    "  r, c, v = m.row, m.col, m.data\n",
    "  tril_no_diag = r > c\n",
    "  triu_no_diag = c > r\n",
    "\n",
    "  if triu_no_diag.sum() != tril_no_diag.sum():\n",
    "    return False\n",
    "  rl = r[tril_no_diag]\n",
    "  cl = c[tril_no_diag]\n",
    "  vl = v[tril_no_diag]\n",
    "  ru = r[triu_no_diag]\n",
    "  cu = c[triu_no_diag]\n",
    "  vu = v[triu_no_diag]\n",
    "\n",
    "  sortl = np.lexsort((cl, rl))\n",
    "  sortu = np.lexsort((ru, cu))\n",
    "  vl = vl[sortl]\n",
    "  vu = vu[sortu]\n",
    "\n",
    "  check = np.allclose(vl, vu)\n",
    "\n",
    "  return check\n",
    "\n",
    "def is_triangular(A):\n",
    "  m = coo_matrix(A)\n",
    "  r, c, v = m.row, m.col, m.data\n",
    "  tril_no_diag = r > c\n",
    "  triu_no_diag = c > r\n",
    "  if triu_no_diag.sum()==0 or tril_no_diag.sum()==0 :\n",
    "    return True\n",
    "  return False"
   ]
  },
  {
   "cell_type": "markdown",
   "id": "87b5bdf4-2577-4f86-bbc9-63892e6a26ea",
   "metadata": {},
   "source": [
    "## Laplacian / Fiedler"
   ]
  },
  {
   "cell_type": "code",
   "execution_count": null,
   "id": "2dc220bf-b202-49a9-89cd-a4cafbc73c86",
   "metadata": {},
   "outputs": [],
   "source": [
    "# The graph is connected?\n",
    "print(nx.is_connected(G))\n",
    "print(nx.number_connected_components(G))"
   ]
  },
  {
   "cell_type": "code",
   "execution_count": null,
   "id": "z9UX8b4oK5oU",
   "metadata": {
    "colab": {
     "base_uri": "https://localhost:8080/"
    },
    "executionInfo": {
     "elapsed": 367,
     "status": "ok",
     "timestamp": 1643418791948,
     "user": {
      "displayName": "Karelia Alexandra Vilca Salinas",
      "photoUrl": "https://lh3.googleusercontent.com/a/default-user=s64",
      "userId": "07656469641488750108"
     },
     "user_tz": 300
    },
    "id": "z9UX8b4oK5oU",
    "outputId": "557d7ecd-4416-4058-c06b-11a2b47b4563"
   },
   "outputs": [],
   "source": [
    "import osmnx as ox\n",
    "import math\n",
    "\n",
    "'''' If you want to use the average distance between all point pairs as sigma (slow)\n",
    "soma=0.0\n",
    "for u in G.nodes:\n",
    "    for v in G.nodes:\n",
    "        if u!=v:\n",
    "            vertA = cg.city_vert_list[cg.city_vert_nxind_to_ind_dict[u]]\n",
    "            vertB = cg.city_vert_list[cg.city_vert_nxind_to_ind_dict[v]]            \n",
    "            soma+= ox.distance.great_circle_vec(vertA[0],vertA[1],vertB[0],vertB[1])\n",
    "sigma=soma/(len(G.nodes)*(len(G.nodes)-1))\n",
    "'''\n",
    "\n",
    "sigma=5000\n",
    "\n",
    "# Inverse length\n",
    "for u in G.edges:\n",
    "   G[u[0]][u[1]][0][\"inv_length\"] = 1/G[u[0]][u[1]][0][\"length\"] \n",
    "# Gaussian:\n",
    "#    G[u[0]][u[1]][0][\"inv_length\"] = math.exp(-(G[u[0]][u[1]][0][\"length\"]**2)/(sigma**2)) \n",
    "    \n",
    "laplacian = nx.laplacian_matrix(G,weight='inv_length')\n",
    "\n",
    "# Is Symmetric?\n",
    "print(is_symmetric(laplacian))\n",
    "# Is Triangular?\n",
    "print(is_triangular(laplacian))"
   ]
  },
  {
   "cell_type": "code",
   "execution_count": null,
   "id": "g6AnrwRjiPRn",
   "metadata": {
    "colab": {
     "base_uri": "https://localhost:8080/"
    },
    "executionInfo": {
     "elapsed": 2745,
     "status": "ok",
     "timestamp": 1643661506290,
     "user": {
      "displayName": "Karelia Alexandra Vilca Salinas",
      "photoUrl": "https://lh3.googleusercontent.com/a/default-user=s64",
      "userId": "07656469641488750108"
     },
     "user_tz": 300
    },
    "id": "g6AnrwRjiPRn",
    "outputId": "2d430588-d1b5-4153-e6b4-63c678da3c94"
   },
   "outputs": [],
   "source": [
    "from scipy.sparse.linalg import eigs\n",
    "eig_values, eig_vectors = eigs(laplacian.astype(float),k=2, which='LM', sigma=0)\n",
    "fiedler_pos = np.where(eig_values.real == np.sort(eig_values.real)[1])[0][0]\n",
    "fiedler_vector = np.transpose(eig_vectors)[fiedler_pos]\n",
    "\n",
    "print(\"Fiedler vector: \" + str(fiedler_vector.real))\n",
    "fiedler_vector_real = fiedler_vector.real\n",
    "fiedler_sorted_index_list = np.argsort(np.argsort(fiedler_vector_real))\n",
    "\n",
    "i=0\n",
    "for u in G.nodes:\n",
    "    G.nodes[u]['fiedler_index']=fiedler_sorted_index_list[i]\n",
    "    i=i+1\n",
    "    \n",
    "inverse_fiedler_sorted_index_list = [0] * len(cg.city_vert_list)\n",
    "for i in range(len(fiedler_sorted_index_list)):\n",
    "    inverse_fiedler_sorted_index_list[fiedler_sorted_index_list[i]]=i"
   ]
  },
  {
   "cell_type": "markdown",
   "id": "f265c4f9",
   "metadata": {},
   "source": [
    "# Sorting the nodes according to several techniques"
   ]
  },
  {
   "cell_type": "markdown",
   "id": "e5b3adcb-ae33-4b93-b53b-91387e941fda",
   "metadata": {},
   "source": [
    "## Random"
   ]
  },
  {
   "cell_type": "code",
   "execution_count": null,
   "id": "d744f59a-19ce-4d27-b099-fec487269fa7",
   "metadata": {},
   "outputs": [],
   "source": [
    "random_index_list = np.random.permutation(len(cg.city_vert_list))"
   ]
  },
  {
   "cell_type": "markdown",
   "id": "d4c7dc12-f011-4b7f-b2cd-0cfee70af019",
   "metadata": {},
   "source": [
    "## t-SNE 1D"
   ]
  },
  {
   "cell_type": "code",
   "execution_count": null,
   "id": "931b17e8",
   "metadata": {},
   "outputs": [],
   "source": [
    "from sklearn.preprocessing import StandardScaler\n",
    "import openTSNE\n",
    "\n",
    "nodes2d = np.array(cg.city_vert_list)\n",
    "\n",
    "gpdnodes = gpd.GeoDataFrame(geometry = gpd.points_from_xy(nodes2d[:,0], nodes2d[:,1]), crs = \"EPSG:4326\")\n",
    "gpdnodes = gpdnodes.to_crs(\"EPSG:20824\") # reprojetando para ficar melhor para Buenos Aires\n",
    "nodesproj = gpdnodes.geometry.apply(lambda g: pd.Series(g.coords[0]))\n",
    "scaler = StandardScaler()\n",
    "scaler.fit(nodesproj)\n",
    "nodesprojsca = scaler.transform(nodesproj)\n",
    "\n",
    "'''\n",
    "print(\"Calculando affinity\")\n",
    "#njobs = 32\n",
    "aff3k = openTSNE.affinity.PerplexityBasedNN(\n",
    "    nodesprojsca,\n",
    "    perplexity=3000,\n",
    "    n_jobs=32,\n",
    "    random_state=0,\n",
    ")\n",
    "'''\n",
    "print(\"Calculando TSNE\")\n",
    "#n_jobs=32\n",
    "X_embedding = openTSNE.TSNE(\n",
    "    n_components = 1,\n",
    "    perplexity = 127,\n",
    "    n_jobs=10,\n",
    "    verbose=True,\n",
    ").fit(nodesprojsca)\n",
    "\n",
    "\n",
    "# Exibir ordenacao no mapa\n",
    "\n",
    "print(\"Gerando dataframe\")\n",
    "\n",
    "nodesdf = pd.DataFrame(nodes2d)\n",
    "nodesdf['y'] = nodesproj[0]\n",
    "nodesdf['x'] = nodesproj[1]\n",
    "nodesdf[\"tsne\"] = X_embedding\n",
    "nodesdf = nodesdf.sort_values('tsne').reset_index()\n",
    "nodesdf[\"new_index\"] = nodesdf.index"
   ]
  },
  {
   "cell_type": "code",
   "execution_count": null,
   "id": "553b0074",
   "metadata": {},
   "outputs": [],
   "source": [
    "import folium\n",
    "import branca\n",
    "import branca.colormap as cm\n",
    "\n",
    "mi= 0\n",
    "ma= nodesdf.shape[0] - 1\n",
    "\n",
    "colormap = cm.LinearColormap(colors=['darkblue', 'blue', 'cyan', 'yellow', 'orange', 'red'],\n",
    "                             index=[mi, ma/5, ma/5*2, ma/5*3, ma/5*4, ma], vmin=mi, vmax=ma,\n",
    "                             caption='TSNE perplexity 500 on Buenos Aires')\n",
    "\n",
    "Lats = nodes2d[:,0]\n",
    "Longs = nodes2d[:,1]\n",
    "med_lat = 0.5*(np.max(Lats)+np.min(Lats))\n",
    "med_lon = 0.5*(np.max(Longs)+np.min(Longs))\n",
    "\n",
    "m = folium.Map(location=[med_lat, med_lon], zoom_start=12, tiles='CartoDB positron')\n",
    "\n",
    "for index, row in nodesdf.iterrows():\n",
    "    marker = folium.CircleMarker([row[0], row[1]], radius=1, color=colormap(index))\n",
    "    popup = folium.Popup(str(row['index']))\n",
    "    marker.add_child(popup)\n",
    "    m.add_child(marker)\n",
    "   \n",
    "m.add_child(colormap)\n",
    "m.save('tsne_map_maceio2.html')\n",
    "m"
   ]
  },
  {
   "cell_type": "code",
   "execution_count": null,
   "id": "7d6ec64b",
   "metadata": {},
   "outputs": [],
   "source": [
    "df = nodesdf.sort_values(by=['index'])\n",
    "tsne_sorted_index_list = np.array(df['new_index'])\n",
    "inverse_tsne_sorted_index_list = [0] * len(cg.city_vert_list)\n",
    "for i in range(len(tsne_sorted_index_list)):\n",
    "    inverse_tsne_sorted_index_list[tsne_sorted_index_list[i]]=i"
   ]
  },
  {
   "cell_type": "markdown",
   "id": "d2d960e5",
   "metadata": {},
   "source": [
    "## UMAP"
   ]
  },
  {
   "cell_type": "code",
   "execution_count": null,
   "id": "71bc3aed",
   "metadata": {},
   "outputs": [],
   "source": [
    "umap_model = umap.UMAP(n_components=1, n_neighbors = 750, min_dist = 0.5, random_state=42)\n",
    "umap_embedding = umap_model.fit_transform(nodesprojsca)"
   ]
  },
  {
   "cell_type": "code",
   "execution_count": null,
   "id": "bdb6608b",
   "metadata": {},
   "outputs": [],
   "source": [
    "nodesdf_umap = pd.DataFrame(nodes2d)\n",
    "nodesdf_umap['y'] = nodesproj[0]\n",
    "nodesdf_umap['x'] = nodesproj[1]\n",
    "nodesdf_umap[\"umap\"] = umap_embedding\n",
    "nodesdf_umap = nodesdf_umap.sort_values('umap').reset_index()\n",
    "nodesdf_umap[\"new_index\"] = nodesdf_umap.index\n",
    "nodesdf_umap"
   ]
  },
  {
   "cell_type": "code",
   "execution_count": null,
   "id": "257a285d",
   "metadata": {},
   "outputs": [],
   "source": [
    "import folium\n",
    "import branca\n",
    "import branca.colormap as cm\n",
    "\n",
    "mi= 0\n",
    "ma= nodesdf.shape[0] - 1\n",
    "\n",
    "colormap = cm.LinearColormap(colors=['darkblue', 'blue', 'cyan', 'yellow', 'orange', 'red'],\n",
    "                             index=[mi, ma/5, ma/5*2, ma/5*3, ma/5*4, ma], vmin=mi, vmax=ma,\n",
    "                             caption='TSNE perplexity 5000')\n",
    "\n",
    "Lats = nodes2d[:,0]\n",
    "Longs = nodes2d[:,1]\n",
    "med_lat = 0.5*(np.max(Lats)+np.min(Lats))\n",
    "med_lon = 0.5*(np.max(Longs)+np.min(Longs))\n",
    "\n",
    "m = folium.Map(location=[med_lat, med_lon], zoom_start=12, tiles='CartoDB positron')\n",
    "\n",
    "for index, row in nodesdf_umap.iterrows():\n",
    "    marker = folium.CircleMarker([row[0], row[1]], radius=1, color=colormap(index))\n",
    "    popup = folium.Popup(str(index))\n",
    "    marker.add_child(popup)\n",
    "    m.add_child(marker)\n",
    "   \n",
    "m.add_child(colormap)\n",
    "m.save('umap_map_maceio2.html')\n",
    "m"
   ]
  },
  {
   "cell_type": "code",
   "execution_count": null,
   "id": "b9f01844",
   "metadata": {},
   "outputs": [],
   "source": [
    "df = nodesdf_umap.sort_values(by=['index'])\n",
    "umap_sorted_index_list = np.array(df['new_index'])\n",
    "inverse_umap_sorted_index_list = [0] * len(cg.city_vert_list)\n",
    "for i in range(len(umap_sorted_index_list)):\n",
    "    inverse_umap_sorted_index_list[umap_sorted_index_list[i]]=i"
   ]
  },
  {
   "cell_type": "markdown",
   "id": "05831584-c2f9-48d6-86ec-90f5fb8ae07d",
   "metadata": {},
   "source": [
    "## Metric for sorting quality: embedding -> latlong (FORWARD METRIC)"
   ]
  },
  {
   "cell_type": "markdown",
   "id": "144c3282-07e5-495f-8881-4302fbbde3ce",
   "metadata": {},
   "source": [
    "### original"
   ]
  },
  {
   "cell_type": "code",
   "execution_count": null,
   "id": "84c52a97",
   "metadata": {},
   "outputs": [],
   "source": [
    "window_size = int(len(cg.city_vert_list)/100)"
   ]
  },
  {
   "cell_type": "code",
   "execution_count": null,
   "id": "6b557155",
   "metadata": {},
   "outputs": [],
   "source": [
    "print(window_size)\n",
    "print(int(window_size/2))"
   ]
  },
  {
   "cell_type": "code",
   "execution_count": null,
   "id": "43ae7ffa",
   "metadata": {},
   "outputs": [],
   "source": [
    "from sklearn.metrics.pairwise import pairwise_distances,haversine_distances\n",
    "from sklearn.neighbors import NearestNeighbors"
   ]
  },
  {
   "cell_type": "code",
   "execution_count": null,
   "id": "f7fb23f7",
   "metadata": {},
   "outputs": [],
   "source": [
    "df"
   ]
  },
  {
   "cell_type": "code",
   "execution_count": null,
   "id": "9c38d82f",
   "metadata": {},
   "outputs": [],
   "source": [
    "originaldf = df[[0,1,'x','y']].copy()\n",
    "originaldf.index = df['index'].values\n",
    "originaldf"
   ]
  },
  {
   "cell_type": "code",
   "execution_count": null,
   "id": "b4d8897f",
   "metadata": {},
   "outputs": [],
   "source": [
    "cg.city_vert_list[1]"
   ]
  },
  {
   "cell_type": "code",
   "execution_count": null,
   "id": "0d4fd79b",
   "metadata": {},
   "outputs": [],
   "source": [
    "def calculate_diagonal(list_of_indices):\n",
    "    Lats = [cg.city_vert_list[j][0] for j in list_of_indices]\n",
    "    Longs = [cg.city_vert_list[j][1] for j in list_of_indices]\n",
    "    min_rad = [math.radians(_) for _ in [min(Lats),min(Longs)]]\n",
    "    max_rad = [math.radians(_) for _ in [max(Lats),max(Longs)]]\n",
    "    \n",
    "    return haversine_distances([min_rad,max_rad])[0,1]* 6371000/1000"
   ]
  },
  {
   "cell_type": "code",
   "execution_count": null,
   "id": "d5dd67e3",
   "metadata": {},
   "outputs": [],
   "source": [
    "def calculate_diagonal_using_projection(list_of_indices):\n",
    "    min_x = min(originaldf.loc[list_of_indices]['x'])\n",
    "    max_x = max(originaldf.loc[list_of_indices]['x'])\n",
    "    min_y = min(originaldf.loc[list_of_indices]['y'])\n",
    "    max_y = max(originaldf.loc[list_of_indices]['y'])\n",
    "\n",
    "    return np.sqrt((max_x - min_x)**2 + (max_y - min_y)**2)"
   ]
  },
  {
   "cell_type": "code",
   "execution_count": null,
   "id": "778ff67a",
   "metadata": {},
   "outputs": [],
   "source": [
    "def distance_on_earth(row1, row2):\n",
    "    rad1 = [math.radians(row1[0]), math.radians(row1[1])]\n",
    "    rad2 = [math.radians(row2[0]), math.radians(row2[1])]\n",
    "    return haversine_distances([rad1,rad2])[0,1]* 6371000/1000"
   ]
  },
  {
   "cell_type": "code",
   "execution_count": null,
   "id": "2eb7bfdb",
   "metadata": {},
   "outputs": [],
   "source": [
    "distance_on_earth(df[[0,1]].iloc[0], df[[0,1]].iloc[1])"
   ]
  },
  {
   "cell_type": "code",
   "execution_count": null,
   "id": "d1dd4c8f",
   "metadata": {},
   "outputs": [],
   "source": [
    "%%time\n",
    "knn = NearestNeighbors(n_neighbors=window_size, algorithm='auto')\n",
    "knn.fit(originaldf[['x','y']])\n",
    "neighbors = knn.kneighbors(originaldf[['x','y']], return_distance = False)\n",
    "best_diagonal = np.apply_along_axis(calculate_diagonal, 1, neighbors)"
   ]
  },
  {
   "cell_type": "code",
   "execution_count": null,
   "id": "7e929fc3-dc34-407d-af7d-d4af7e493c34",
   "metadata": {},
   "outputs": [],
   "source": [
    "diagonals_original = []\n",
    "\n",
    "for i in range(0,len(cg.city_vert_list)-window_size,1):\n",
    "    Lats = [cg.city_vert_list[j][0] for j in range(i,i+window_size)]\n",
    "    Longs = [cg.city_vert_list[j][1] for j in range(i,i+window_size)]\n",
    "    min_rad = [math.radians(_) for _ in [min(Lats),min(Longs)]]\n",
    "    max_rad = [math.radians(_) for _ in [max(Lats),max(Longs)]]\n",
    "    \n",
    "    diag = haversine_distances([min_rad,max_rad])[0,1]* 6371000/1000\n",
    "    norm_diag = diag / best_diagonal[i + int(window_size/2)]\n",
    "    \n",
    "    diagonals_original.append(norm_diag)"
   ]
  },
  {
   "cell_type": "markdown",
   "id": "2968fbfb-2e3b-4654-aeae-835dabc41046",
   "metadata": {},
   "source": [
    "### Fiedler"
   ]
  },
  {
   "cell_type": "code",
   "execution_count": null,
   "id": "706c0a8e-ab2e-434e-b748-83c9593648dc",
   "metadata": {},
   "outputs": [],
   "source": [
    "from sklearn.metrics.pairwise import pairwise_distances,haversine_distances\n",
    "import math\n",
    "\n",
    "\n",
    "diagonals_fiedler = []\n",
    "\n",
    "for i in range(0,len(cg.city_vert_list)-window_size,1):\n",
    "    Lats = [cg.city_vert_list[j][0] for j in inverse_fiedler_sorted_index_list[i:i+window_size]]\n",
    "    Longs = [cg.city_vert_list[j][1] for j in inverse_fiedler_sorted_index_list[i:i+window_size]]\n",
    "    min_rad = [math.radians(_) for _ in [min(Lats),min(Longs)]]\n",
    "    max_rad = [math.radians(_) for _ in [max(Lats),max(Longs)]]\n",
    "    \n",
    "    diag = haversine_distances([min_rad,max_rad])[0,1]* 6371000/1000\n",
    "    norm_diag = diag / best_diagonal[inverse_fiedler_sorted_index_list[i + int(window_size/2)]]\n",
    "    \n",
    "    diagonals_fiedler.append(norm_diag)"
   ]
  },
  {
   "cell_type": "markdown",
   "id": "829894bf-19ae-4109-aa3d-ed8207d2050e",
   "metadata": {},
   "source": [
    "### t-SNE"
   ]
  },
  {
   "cell_type": "code",
   "execution_count": null,
   "id": "18d116be-c7d1-4b47-a219-59df017a4ce1",
   "metadata": {},
   "outputs": [],
   "source": [
    "from sklearn.metrics.pairwise import pairwise_distances,haversine_distances\n",
    "import math\n",
    "\n",
    "\n",
    "diagonals_tsne = []\n",
    "\n",
    "for i in range(0,len(cg.city_vert_list)-window_size,1):\n",
    "    Lats = [cg.city_vert_list[j][0] for j in inverse_tsne_sorted_index_list[i:i+window_size]]\n",
    "    Longs = [cg.city_vert_list[j][1] for j in inverse_tsne_sorted_index_list[i:i+window_size]]\n",
    "    min_rad = [math.radians(_) for _ in [min(Lats),min(Longs)]]\n",
    "    max_rad = [math.radians(_) for _ in [max(Lats),max(Longs)]]\n",
    "    \n",
    "    diag = haversine_distances([min_rad,max_rad])[0,1]* 6371000/1000\n",
    "    norm_diag = diag / best_diagonal[inverse_tsne_sorted_index_list[i + int(window_size/2)]]\n",
    "    \n",
    "    diagonals_tsne.append(norm_diag)"
   ]
  },
  {
   "cell_type": "markdown",
   "id": "7e334762",
   "metadata": {},
   "source": [
    "### UMAP"
   ]
  },
  {
   "cell_type": "code",
   "execution_count": null,
   "id": "355868d6",
   "metadata": {},
   "outputs": [],
   "source": [
    "from sklearn.metrics.pairwise import pairwise_distances,haversine_distances\n",
    "import math\n",
    "\n",
    "\n",
    "diagonals_umap = []\n",
    "\n",
    "for i in range(0,len(cg.city_vert_list)-window_size,1):\n",
    "    Lats = [cg.city_vert_list[j][0] for j in inverse_umap_sorted_index_list[i:i+window_size]]\n",
    "    Longs = [cg.city_vert_list[j][1] for j in inverse_umap_sorted_index_list[i:i+window_size]]\n",
    "    min_rad = [math.radians(_) for _ in [min(Lats),min(Longs)]]\n",
    "    max_rad = [math.radians(_) for _ in [max(Lats),max(Longs)]]\n",
    "    \n",
    "    diag = haversine_distances([min_rad,max_rad])[0,1]* 6371000/1000\n",
    "    norm_diag = diag / best_diagonal[inverse_umap_sorted_index_list[i + int(window_size/2)]]\n",
    "    \n",
    "    diagonals_umap.append(norm_diag)"
   ]
  },
  {
   "cell_type": "markdown",
   "id": "d37fa810-dc9d-4cc7-aff6-882b8096edfc",
   "metadata": {},
   "source": [
    "### Random"
   ]
  },
  {
   "cell_type": "code",
   "execution_count": null,
   "id": "5f2eaace-f581-4f79-b377-f696152d52a5",
   "metadata": {},
   "outputs": [],
   "source": [
    "from sklearn.metrics.pairwise import pairwise_distances,haversine_distances\n",
    "\n",
    "diagonals_random = []\n",
    "\n",
    "for i in range(0,len(cg.city_vert_list)-window_size,1):\n",
    "#for i in range(0,10000,1000):\n",
    "    Lats = [cg.city_vert_list[j][0] for j in random_index_list[i:i+window_size]]\n",
    "    Longs = [cg.city_vert_list[j][1] for j in random_index_list[i:i+window_size]]\n",
    "    min_rad = [math.radians(_) for _ in [np.min(Lats),np.min(Longs)]]\n",
    "    max_rad = [math.radians(_) for _ in [np.max(Lats),np.max(Longs)]]\n",
    "    \n",
    "    diag = haversine_distances([min_rad,max_rad])[0,1]* 6371000/1000\n",
    "    norm_diag = diag / best_diagonal[random_index_list[i + int(window_size/2)]]\n",
    "    \n",
    "    diagonals_random.append(norm_diag)"
   ]
  },
  {
   "cell_type": "code",
   "execution_count": null,
   "id": "527d0b37-a41c-44f8-85cb-6ce71fe955f0",
   "metadata": {},
   "outputs": [],
   "source": [
    "import statistics\n",
    "print('Fiedler - média:',statistics.mean(diagonals_fiedler))\n",
    "print('Fiedler - mediana:',statistics.median(diagonals_fiedler))\n",
    "print('t-SNE - média:',statistics.mean(diagonals_tsne))\n",
    "print('t-SNE - mediana:',statistics.median(diagonals_tsne))\n",
    "print('UMAP - média:',statistics.mean(diagonals_umap))\n",
    "print('UMAP - mediana:',statistics.median(diagonals_umap))\n",
    "print('Original - média:',statistics.mean(diagonals_original))\n",
    "print('Original - mediana:',statistics.median(diagonals_original))\n",
    "print('Random - média:',statistics.mean(diagonals_random))\n",
    "print('Random - mediana:',statistics.median(diagonals_random))"
   ]
  },
  {
   "cell_type": "code",
   "execution_count": null,
   "id": "69df4241",
   "metadata": {},
   "outputs": [],
   "source": [
    "print(min(diagonals_tsne))\n",
    "print(max(diagonals_tsne))\n",
    "print(len(diagonals_tsne))\n",
    "print(len(cg.city_vert_list)-window_size)"
   ]
  },
  {
   "cell_type": "code",
   "execution_count": null,
   "id": "b6cc943e",
   "metadata": {},
   "outputs": [],
   "source": [
    "pd.Series(diagonals_tsne).plot.box()"
   ]
  },
  {
   "cell_type": "code",
   "execution_count": null,
   "id": "e3d78ff5",
   "metadata": {},
   "outputs": [],
   "source": [
    "data = pd.Series(diagonals_tsne)\n",
    "Q1   = data.quantile(0.25)\n",
    "Q3   = data.quantile(0.75)\n",
    "IQR  = Q3 - Q1\n",
    "upper_bound = Q3 + 1.5 * IQR\n",
    "lower_bound = Q1 - 1.5 * IQR\n",
    "print(lower_bound, upper_bound)"
   ]
  },
  {
   "cell_type": "code",
   "execution_count": null,
   "id": "7b1d04a8",
   "metadata": {},
   "outputs": [],
   "source": [
    "nodesdf"
   ]
  },
  {
   "cell_type": "code",
   "execution_count": null,
   "id": "1714d44f",
   "metadata": {},
   "outputs": [],
   "source": [
    "import folium\n",
    "import branca\n",
    "import branca.colormap as cm\n",
    "\n",
    "data = pd.Series(diagonals_tsne)\n",
    "Q1   = data.quantile(0.25)\n",
    "Q3   = data.quantile(0.75)\n",
    "IQR  = Q3 - Q1\n",
    "mi = Q1 - 1.5 * IQR\n",
    "ma = Q3 + 1.5 * IQR\n",
    "\n",
    "colormap = cm.LinearColormap(colors=['#fffdd0', 'red'],\n",
    "                             index=[mi, ma], vmin=mi, vmax=ma,\n",
    "                             caption='TSNE forward measure')\n",
    "\n",
    "Lats = nodes2d[:,0]\n",
    "Longs = nodes2d[:,1]\n",
    "med_lat = 0.5*(np.max(Lats)+np.min(Lats))\n",
    "med_lon = 0.5*(np.max(Longs)+np.min(Longs))\n",
    "\n",
    "m = folium.Map(location=[med_lat, med_lon], zoom_start=12, tiles='CartoDB positron')\n",
    "\n",
    "for esquina in range(len(cg.city_vert_list) - window_size):\n",
    "    window_middle_i = inverse_tsne_sorted_index_list[esquina+int(window_size/2)]\n",
    "    marker = folium.CircleMarker(cg.city_vert_list[window_middle_i], radius=1, color=colormap(diagonals_tsne[esquina]),opacity=0.5+((diagonals_tsne[esquina] - mi)*0.5/(ma-mi))).add_to(m)  \n",
    "    popup = folium.Popup(str(window_middle_i))\n",
    "    marker.add_child(popup)\n",
    "    m.add_child(marker)\n",
    "    \n",
    "m.add_child(colormap)\n",
    "m.save('tsne_map_maceio2_forward.html')\n",
    "m"
   ]
  },
  {
   "cell_type": "code",
   "execution_count": null,
   "id": "3d1cf2b7",
   "metadata": {},
   "outputs": [],
   "source": [
    "nodesdf"
   ]
  },
  {
   "cell_type": "code",
   "execution_count": null,
   "id": "14b0e279",
   "metadata": {},
   "outputs": [],
   "source": [
    "Lats = [cg.city_vert_list[j][0] for j in range(len(cg.city_vert_list))]\n",
    "Longs = [cg.city_vert_list[j][1] for j in range(len(cg.city_vert_list))]\n",
    "med_lat = 0.5*(np.max(Lats)+np.min(Lats))\n",
    "med_lon = 0.5*(np.max(Longs)+np.min(Longs))\n",
    "\n",
    "m = folium.Map(location=[med_lat+0.08, med_lon-0.05], zoom_start=12, tiles='CartoDB positron')\n",
    "\n",
    "i_middle_original = 13274\n",
    "\n",
    "folium.CircleMarker((cg.city_vert_list[i_middle_original][0],cg.city_vert_list[i_middle_original][1]), radius=6, color='green',opacity=1).add_to(m)  \n",
    "\n",
    "i_middle = np.where(np.array(inverse_tsne_sorted_index_list) == i_middle_original)[0][0]\n",
    "i = i_middle - int(window_size/2)\n",
    "\n",
    "Lats = [cg.city_vert_list[j][0] for j in inverse_tsne_sorted_index_list[i:i+window_size]]\n",
    "Longs = [cg.city_vert_list[j][1] for j in inverse_tsne_sorted_index_list[i:i+window_size]]\n",
    "\n",
    "min_rad = [math.radians(_) for _ in [np.min(Lats),np.min(Longs)]]\n",
    "max_rad = [math.radians(_) for _ in [np.max(Lats),np.max(Longs)]]\n",
    "print(haversine_distances([min_rad,max_rad])[0,1]* 6371000/1000)\n",
    "\n",
    "for k in range(window_size):\n",
    "    folium.CircleMarker((Lats[k],Longs[k]), radius=4, color='red',opacity=1).add_to(m)  \n",
    "\n",
    "    \n",
    "neighbors = knn.kneighbors(originaldf.loc[[i_middle_original]][['x','y']], return_distance = False)[0]\n",
    "Lats = [cg.city_vert_list[j][0] for j in neighbors]\n",
    "Longs = [cg.city_vert_list[j][1] for j in neighbors]\n",
    "\n",
    "for k in range(window_size):\n",
    "    folium.CircleMarker((Lats[k],Longs[k]), radius=2, color='blue',opacity=1).add_to(m)  \n",
    "\n",
    "\n",
    "m.add_child(colormap)\n",
    "m"
   ]
  },
  {
   "cell_type": "code",
   "execution_count": null,
   "id": "e71372e0",
   "metadata": {},
   "outputs": [],
   "source": [
    "import folium\n",
    "import branca\n",
    "import branca.colormap as cm\n",
    "\n",
    "data = pd.Series(diagonals_fiedler)\n",
    "Q1   = data.quantile(0.25)\n",
    "Q3   = data.quantile(0.75)\n",
    "IQR  = Q3 - Q1\n",
    "mi = 0 #Q1 - 1.5 * IQR\n",
    "ma = 8 # Q3 + 1.5 * IQR\n",
    "\n",
    "colormap = cm.LinearColormap(colors=['#fffdd0', 'red'],\n",
    "                             index=[mi, ma], vmin=mi, vmax=ma,\n",
    "                             caption='Fiedler forward measure')\n",
    "\n",
    "Lats = nodes2d[:,0]\n",
    "Longs = nodes2d[:,1]\n",
    "med_lat = 0.5*(np.max(Lats)+np.min(Lats))\n",
    "med_lon = 0.5*(np.max(Longs)+np.min(Longs))\n",
    "\n",
    "m = folium.Map(location=[med_lat, med_lon], zoom_start=12, tiles='CartoDB positron')\n",
    "\n",
    "for esquina in range(len(cg.city_vert_list) - window_size):\n",
    "    window_middle_i = inverse_fiedler_sorted_index_list[esquina+int(window_size/2)]\n",
    "    marker = folium.CircleMarker(cg.city_vert_list[window_middle_i], radius=1, color=colormap(diagonals_fiedler[esquina]),opacity=0.5+((diagonals_fiedler[esquina] - mi)*0.5/(ma-mi))).add_to(m)  \n",
    "    popup = folium.Popup(str(window_middle_i))\n",
    "    marker.add_child(popup)\n",
    "    m.add_child(marker)\n",
    "    \n",
    "m.add_child(colormap)\n",
    "m.save('fiedler_map_maceio2_forward.html')\n",
    "m"
   ]
  },
  {
   "cell_type": "code",
   "execution_count": null,
   "id": "4f2d6e24",
   "metadata": {},
   "outputs": [],
   "source": [
    "import folium\n",
    "import branca\n",
    "import branca.colormap as cm\n",
    "\n",
    "data = pd.Series(diagonals_tsne)\n",
    "Q1   = data.quantile(0.25)\n",
    "Q3   = data.quantile(0.75)\n",
    "IQR  = Q3 - Q1\n",
    "mi = 0# Q1 - 1.5 * IQR\n",
    "ma = 8# Q3 + 1.5 * IQR\n",
    "\n",
    "colormap = cm.LinearColormap(colors=['#fffdd0', 'red'],\n",
    "                             index=[mi, ma], vmin=mi, vmax=ma,\n",
    "                             caption='UMAP forward measure')\n",
    "\n",
    "Lats = nodes2d[:,0]\n",
    "Longs = nodes2d[:,1]\n",
    "med_lat = 0.5*(np.max(Lats)+np.min(Lats))\n",
    "med_lon = 0.5*(np.max(Longs)+np.min(Longs))\n",
    "\n",
    "m = folium.Map(location=[med_lat, med_lon], zoom_start=12, tiles='CartoDB positron')\n",
    "\n",
    "for esquina in range(len(cg.city_vert_list) - window_size):\n",
    "    window_middle_i = inverse_umap_sorted_index_list[esquina+int(window_size/2)]\n",
    "    marker = folium.CircleMarker(cg.city_vert_list[window_middle_i], radius=1, color=colormap(diagonals_umap[esquina]),opacity=0.5+((diagonals_umap[esquina] - mi)*0.5/(ma-mi))).add_to(m)  \n",
    "    popup = folium.Popup(str(window_middle_i))\n",
    "    marker.add_child(popup)\n",
    "    m.add_child(marker)\n",
    "    \n",
    "m.add_child(colormap)\n",
    "m.save('umap_map_maceio2_forward.html')\n",
    "m"
   ]
  },
  {
   "cell_type": "code",
   "execution_count": null,
   "id": "53d644c1",
   "metadata": {},
   "outputs": [],
   "source": [
    "import matplotlib.pyplot as plt"
   ]
  },
  {
   "cell_type": "code",
   "execution_count": null,
   "id": "52ba8671-8745-485b-a46a-cc28f4f1cda8",
   "metadata": {},
   "outputs": [],
   "source": [
    "\n",
    "plt.hist([diagonals_fiedler, diagonals_tsne,diagonals_umap, diagonals_original, diagonals_random], bins=40, label=['fiedler', 't-sne','umap','original', 'random'], color=['blue','orange','red', 'green','purple'],range=[0,30])\n",
    "#plt.hist([diagonals_random], bins=40, label=['random'], color=['green'],range=[0,40])\n",
    "plt.legend(loc='upper right')\n",
    "plt.show()"
   ]
  },
  {
   "cell_type": "code",
   "execution_count": null,
   "id": "c3112ae3",
   "metadata": {},
   "outputs": [],
   "source": [
    "import matplotlib.pyplot as plt\n",
    "plt.figure(figsize=(4, 3))\n",
    "plt.boxplot([diagonals_fiedler, diagonals_tsne,diagonals_umap, diagonals_original, diagonals_random], labels =['fiedler', 't-sne','umap','original', 'random'], showfliers = False)\n",
    "plt.xlabel(\"Index ordering\")\n",
    "plt.ylabel(\"D\")\n",
    "plt.savefig('BuAi_forward.pdf', dpi=300, format='pdf', bbox_inches='tight')\n",
    "plt.show()"
   ]
  },
  {
   "cell_type": "markdown",
   "id": "79dc7bf1-1076-4348-ba07-9d5b70ad48aa",
   "metadata": {},
   "source": [
    "## Metric for quality: latlong -> embedding (INVERSE METRIC)"
   ]
  },
  {
   "cell_type": "markdown",
   "id": "9ade5e7a-c0a4-42cf-8af6-c92e1cadf670",
   "metadata": {},
   "source": [
    "### Fiedler, original and random"
   ]
  },
  {
   "cell_type": "code",
   "execution_count": null,
   "id": "1b4c2b44-2843-496a-a9a9-830c8fc0ca17",
   "metadata": {},
   "outputs": [],
   "source": [
    "%%time\n",
    "max_inverse_ind_dist_fiedler = []\n",
    "max_inverse_ind_dist_original = []\n",
    "max_inverse_ind_dist_random = []\n",
    "max_inverse_ind_dist_tsne = []\n",
    "max_inverse_ind_dist_umap = []\n",
    "\n",
    "for i in range(0,len(cg.city_vert_list)):\n",
    "    ps=nx.single_source_dijkstra_path(cg.city_street_graph,cg.city_vert_ind_to_nxind_dict[i],cutoff=0.5*1000.0,weight='length')\n",
    "    result_nodes = []\n",
    "    for k in ps.keys():\n",
    "        result_nodes.append(cg.city_vert_nxind_to_ind_dict[k])  \n",
    "    inds_sorted_fiedler = [fiedler_sorted_index_list[j] for j in result_nodes]\n",
    "    inds_sorted_tsne = [tsne_sorted_index_list[j] for j in result_nodes]\n",
    "    inds_sorted_umap = [umap_sorted_index_list[j] for j in result_nodes]\n",
    "    inds_random = [random_index_list[j] for j in result_nodes]\n",
    "    max_inverse_ind_dist_fiedler.append((np.max(inds_sorted_fiedler)-np.min(inds_sorted_fiedler))/len(inds_sorted_fiedler))  \n",
    "    max_inverse_ind_dist_tsne.append((np.max(inds_sorted_tsne)-np.min(inds_sorted_tsne))/len(inds_sorted_tsne))  \n",
    "    max_inverse_ind_dist_umap.append((np.max(inds_sorted_umap)-np.min(inds_sorted_umap))/len(inds_sorted_umap))  \n",
    "    max_inverse_ind_dist_original.append((np.max(result_nodes)-np.min(result_nodes))/len(result_nodes))\n",
    "    max_inverse_ind_dist_random.append((np.max(inds_random)-np.min(inds_random))/len(inds_random))  "
   ]
  },
  {
   "cell_type": "code",
   "execution_count": null,
   "id": "6f2aaff3-ed3a-4382-b8ff-ffc130339a40",
   "metadata": {},
   "outputs": [],
   "source": [
    "plt.hist([max_inverse_ind_dist_fiedler,max_inverse_ind_dist_tsne,max_inverse_ind_dist_umap,max_inverse_ind_dist_original,max_inverse_ind_dist_random], bins=40, label=['fiedler','t-sne','umap','original','random'], color=['blue', 'orange','red','green', 'purple'],range=[0,50])\n",
    "plt.legend(loc='upper right')\n",
    "plt.show()"
   ]
  },
  {
   "cell_type": "code",
   "execution_count": null,
   "id": "2e2a8bed-dfa7-4dbf-b0a9-14175bf288d4",
   "metadata": {},
   "outputs": [],
   "source": [
    "import statistics\n",
    "print('Fiedler - média:',statistics.mean(max_inverse_ind_dist_fiedler))\n",
    "print('Fiedler - mediana:',statistics.median(max_inverse_ind_dist_fiedler))\n",
    "print('t-SNE - média:',statistics.mean(max_inverse_ind_dist_tsne))\n",
    "print('t-SNE - mediana:',statistics.median(max_inverse_ind_dist_tsne))\n",
    "print('UMAP - média:',statistics.mean(max_inverse_ind_dist_umap))\n",
    "print('UMAP - mediana:',statistics.median(max_inverse_ind_dist_umap))\n",
    "print('Original - média:',statistics.mean(max_inverse_ind_dist_original))\n",
    "print('Original - mediana:',statistics.median(max_inverse_ind_dist_original))\n",
    "print('Random - média:',statistics.mean(max_inverse_ind_dist_random))\n",
    "print('Random - mediana:',statistics.median(max_inverse_ind_dist_random))"
   ]
  },
  {
   "cell_type": "code",
   "execution_count": null,
   "id": "e967463f",
   "metadata": {},
   "outputs": [],
   "source": [
    "plt.figure(figsize=(10, 6))\n",
    "plt.boxplot([max_inverse_ind_dist_fiedler,max_inverse_ind_dist_tsne,max_inverse_ind_dist_umap,max_inverse_ind_dist_original,max_inverse_ind_dist_random], labels=['fiedler','t-sne','umap','original','random'])\n",
    "plt.show()"
   ]
  },
  {
   "cell_type": "code",
   "execution_count": null,
   "id": "5a88e8ff",
   "metadata": {},
   "outputs": [],
   "source": [
    "plt.figure(figsize=(4,3))\n",
    "plt.boxplot([max_inverse_ind_dist_fiedler,max_inverse_ind_dist_tsne,max_inverse_ind_dist_umap], labels=['fiedler','t-sne','umap'], showfliers = False)\n",
    "plt.xlabel(\"Index ordering\")\n",
    "plt.ylabel('$D^{inv}$')\n",
    "plt.savefig('BuAi_inverse.pdf', dpi=300, format='pdf', bbox_inches='tight')\n",
    "plt.show()"
   ]
  },
  {
   "cell_type": "markdown",
   "id": "a76adb64-8326-49b7-81c6-c5919bf71466",
   "metadata": {},
   "source": [
    "## Fiedler ordering map"
   ]
  },
  {
   "cell_type": "code",
   "execution_count": null,
   "id": "T-xYcJ04DY8H",
   "metadata": {
    "id": "T-xYcJ04DY8H"
   },
   "outputs": [],
   "source": [
    "import folium\n",
    "import branca\n",
    "import branca.colormap as cm\n",
    "\n",
    "#colormap = cm.LinearColormap(colors=['blue','yellow'],vmin=np.amin(sorted_index_list) ,vmax=np.amax(sorted_index_list))\n",
    "mi= np.amin(fiedler_sorted_index_list)\n",
    "ma = np.amax(fiedler_sorted_index_list)\n",
    "colormap = cm.LinearColormap(colors=['darkblue', 'blue', 'cyan', 'yellow', 'orange', 'red'],\n",
    "                             index=[mi, ma/5, ma/5*2, ma/5*3, ma/5*4, ma], vmin=mi, vmax=ma,\n",
    "                             caption='')\n",
    "\n",
    "Lats = [cg.city_vert_list[j][0] for j in range(len(cg.city_vert_list))]\n",
    "Longs = [cg.city_vert_list[j][1] for j in range(len(cg.city_vert_list))]\n",
    "med_lat = 0.5*(np.max(Lats)+np.min(Lats))\n",
    "med_lon = 0.5*(np.max(Longs)+np.min(Longs))\n",
    "\n",
    "m = folium.Map(location=[med_lat, med_lon], zoom_start=12, tiles='CartoDB positron')\n",
    "\n",
    "for esquina in range(len(cg.city_vert_list)):\n",
    "    marker = folium.CircleMarker(cg.city_vert_list[inverse_fiedler_sorted_index_list[esquina]], radius=1, color=colormap(esquina),opacity=1)\n",
    "    popup = folium.Popup(str(esquina))\n",
    "    marker.add_child(popup)\n",
    "    m.add_child(marker) \n",
    "   \n",
    "m.add_child(colormap)\n",
    "m.save('fiedler_map_maceio2.html')\n",
    "m"
   ]
  },
  {
   "cell_type": "markdown",
   "id": "527fb45e-84cc-47ee-a66d-e819988a2b34",
   "metadata": {},
   "source": [
    "## t-SNE ordering map"
   ]
  },
  {
   "cell_type": "code",
   "execution_count": null,
   "id": "a8b92f83-17f8-4d95-9567-90d50b6dc787",
   "metadata": {},
   "outputs": [],
   "source": [
    "import folium\n",
    "import branca\n",
    "import branca.colormap as cm\n",
    "\n",
    "#colormap = cm.LinearColormap(colors=['blue','yellow'],vmin=np.amin(sorted_index_list) ,vmax=np.amax(sorted_index_list))\n",
    "min= np.amin(tsne_sorted_index_list)\n",
    "max = np.amax(tsne_sorted_index_list)\n",
    "colormap = cm.LinearColormap(colors=['darkblue', 'blue', 'cyan', 'yellow', 'orange', 'red'],\n",
    "                             index=[min, max/5, max/5*2, max/5*3, max/5*4, max], vmin=min, vmax=max,\n",
    "                             caption='Fiedler index')\n",
    "\n",
    "Lats = [cg.city_vert_list[j][0] for j in range(len(cg.city_vert_list))]\n",
    "Longs = [cg.city_vert_list[j][1] for j in range(len(cg.city_vert_list))]\n",
    "med_lat = 0.5*(np.max(Lats)+np.min(Lats))\n",
    "med_lon = 0.5*(np.max(Longs)+np.min(Longs))\n",
    "\n",
    "m = folium.Map(location=[med_lat, med_lon], zoom_start=12, tiles='CartoDB positron')\n",
    "\n",
    "for esquina in range(len(cg.city_vert_list)):\n",
    "     folium.CircleMarker(cg.city_vert_list[inverse_tsne_sorted_index_list[esquina]], radius=1, color=colormap(esquina),opacity=1).add_to(m)  \n",
    "\n",
    "   \n",
    "m.add_child(colormap)\n",
    "m\n",
    "m.save('fiedler_map_tsne.html')"
   ]
  },
  {
   "cell_type": "markdown",
   "id": "632sJPb9Bk4s",
   "metadata": {
    "id": "632sJPb9Bk4s"
   },
   "source": [
    "## tsne inverse metric map"
   ]
  },
  {
   "cell_type": "code",
   "execution_count": null,
   "id": "032f780d-07cc-428d-9844-2a9601bb53b5",
   "metadata": {},
   "outputs": [],
   "source": [
    "import folium\n",
    "import branca\n",
    "import branca.colormap as cm\n",
    "\n",
    "#colormap = cm.LinearColormap(colors=['blue','yellow'],vmin=np.amin(sorted_index_list) ,vmax=np.amax(sorted_index_list))\n",
    "mn = np.amin(0)\n",
    "mx = 50#np.max(max_inverse_ind_dist_fiedler)/16\n",
    "colormap = cm.LinearColormap(colors=['#fffdd0', 'red'],\n",
    "                             index=[mn, mx], vmin=mn, vmax=mx,\n",
    "                             caption='inverse indices distance through tsne error')\n",
    "\n",
    "Lats = [cg.city_vert_list[j][0] for j in range(len(cg.city_vert_list))]\n",
    "Longs = [cg.city_vert_list[j][1] for j in range(len(cg.city_vert_list))]\n",
    "med_lat = 0.5*(np.max(Lats)+np.min(Lats))\n",
    "med_lon = 0.5*(np.max(Longs)+np.min(Longs))\n",
    "\n",
    "m = folium.Map(location=[med_lat, med_lon], zoom_start=12, tiles='CartoDB positron')\n",
    "\n",
    "for esquina in range(len(cg.city_vert_list)):\n",
    "    folium.CircleMarker(cg.city_vert_list[esquina], radius=1, color=colormap(max_inverse_ind_dist_tsne[esquina]), opacity = 0.5+((max_inverse_ind_dist_tsne[esquina] - 0)*0.5/(50-0))).add_to(m)  \n",
    "   \n",
    "m.add_child(colormap)\n",
    "m.save('tsne_maceio2_inverse_measure_map.html')\n",
    "m"
   ]
  },
  {
   "cell_type": "code",
   "execution_count": null,
   "id": "77261e1d",
   "metadata": {},
   "outputs": [],
   "source": [
    "import folium\n",
    "import branca\n",
    "import branca.colormap as cm\n",
    "\n",
    "#colormap = cm.LinearColormap(colors=['blue','yellow'],vmin=np.amin(sorted_index_list) ,vmax=np.amax(sorted_index_list))\n",
    "mn = np.amin(0)\n",
    "mx = 50#np.max(max_inverse_ind_dist_fiedler)/16\n",
    "colormap = cm.LinearColormap(colors=['#fffdd0', 'red'],\n",
    "                             index=[mn, mx], vmin=mn, vmax=mx,\n",
    "                             caption='inverse indices distance through fiedler error')\n",
    "\n",
    "Lats = [cg.city_vert_list[j][0] for j in range(len(cg.city_vert_list))]\n",
    "Longs = [cg.city_vert_list[j][1] for j in range(len(cg.city_vert_list))]\n",
    "med_lat = 0.5*(np.max(Lats)+np.min(Lats))\n",
    "med_lon = 0.5*(np.max(Longs)+np.min(Longs))\n",
    "\n",
    "m = folium.Map(location=[med_lat, med_lon], zoom_start=12, tiles='CartoDB positron')\n",
    "\n",
    "for esquina in range(len(cg.city_vert_list)):\n",
    "    folium.CircleMarker(cg.city_vert_list[esquina], radius=1, color=colormap(max_inverse_ind_dist_fiedler[esquina]), opacity = 0.5+((max_inverse_ind_dist_fiedler[esquina] - 0)*0.5/(50-0))).add_to(m)  \n",
    "   \n",
    "m.add_child(colormap)\n",
    "m.save('fiedler_maceio2_inverse_measure_map.html')\n",
    "m"
   ]
  },
  {
   "cell_type": "code",
   "execution_count": null,
   "id": "a4715152",
   "metadata": {},
   "outputs": [],
   "source": [
    "import folium\n",
    "import branca\n",
    "import branca.colormap as cm\n",
    "\n",
    "#colormap = cm.LinearColormap(colors=['blue','yellow'],vmin=np.amin(sorted_index_list) ,vmax=np.amax(sorted_index_list))\n",
    "mn = np.amin(0)\n",
    "mx = 50#np.max(max_inverse_ind_dist_fiedler)/16\n",
    "colormap = cm.LinearColormap(colors=['#fffdd0', 'red'],\n",
    "                             index=[mn, mx], vmin=mn, vmax=mx,\n",
    "                             caption='inverse indices distance through umap error')\n",
    "\n",
    "Lats = [cg.city_vert_list[j][0] for j in range(len(cg.city_vert_list))]\n",
    "Longs = [cg.city_vert_list[j][1] for j in range(len(cg.city_vert_list))]\n",
    "med_lat = 0.5*(np.max(Lats)+np.min(Lats))\n",
    "med_lon = 0.5*(np.max(Longs)+np.min(Longs))\n",
    "\n",
    "m = folium.Map(location=[med_lat, med_lon], zoom_start=12, tiles='CartoDB positron')\n",
    "\n",
    "for esquina in range(len(cg.city_vert_list)):\n",
    "    folium.CircleMarker(cg.city_vert_list[esquina], radius=1, color=colormap(max_inverse_ind_dist_umap[esquina]), opacity = 0.5+((max_inverse_ind_dist_umap[esquina] - 0)*0.5/(50-0))).add_to(m)  \n",
    "   \n",
    "m.add_child(colormap)\n",
    "m.save('umap_maceio2_inverse_measure_map.html')\n",
    "m"
   ]
  },
  {
   "cell_type": "code",
   "execution_count": null,
   "id": "f1957a42",
   "metadata": {},
   "outputs": [],
   "source": []
  }
 ],
 "metadata": {
  "accelerator": "GPU",
  "colab": {
   "collapsed_sections": [],
   "name": "Laplacian-Fiedler (1).ipynb",
   "provenance": []
  },
  "kernelspec": {
   "display_name": "Python [conda env:sibgrapi2023]",
   "language": "python",
   "name": "conda-env-sibgrapi2023-py"
  },
  "language_info": {
   "codemirror_mode": {
    "name": "ipython",
    "version": 3
   },
   "file_extension": ".py",
   "mimetype": "text/x-python",
   "name": "python",
   "nbconvert_exporter": "python",
   "pygments_lexer": "ipython3",
   "version": "3.11.4"
  }
 },
 "nbformat": 4,
 "nbformat_minor": 5
}
